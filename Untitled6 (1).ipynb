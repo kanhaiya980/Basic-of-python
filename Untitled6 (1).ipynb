{
 "cells": [
  {
   "cell_type": "markdown",
   "id": "50370e43-63b2-4d9d-af0f-093074f59a97",
   "metadata": {},
   "source": [
    "#                                    [Python Basics Questions]"
   ]
  },
  {
   "cell_type": "markdown",
   "id": "7562702b-5750-49f3-92f3-15da1ef8fa9d",
   "metadata": {},
   "source": [
    "# Q.(1)  What is Python, and why is it popular ? \n",
    "  ans.   Python is a high-level, easy-to-learn programming language known for its readability and versatility. It is popular due to its wide range of               applications, large library ecosystem, and strong community support, making it ideal for beginners and professionals alike."
   ]
  },
  {
   "cell_type": "markdown",
   "id": "6f3ba0b1-3450-497b-bb3b-d8654d0fbce6",
   "metadata": {},
   "source": [
    "# Q.(2)  What is an interpreter in Python ? \n",
    "  ans.   An interpreter in Python is a program that executes Python code line by line, converting it into machine code at runtime. \n",
    "         Unlike a compiler, which translates the entire program at once, the interpreter allows for interactive execution and quick testing of code. \n",
    "         This makes Python easy to debug and test incrementally."
   ]
  },
  {
   "cell_type": "markdown",
   "id": "1e1ae5c3-ce1d-40da-be36-a6dfde4b5ab0",
   "metadata": {},
   "source": [
    "# Q.(3)  What are pre-defined keywords in Python ?\n",
    "  ans.   Pre-defined keywords in Python are reserved words that have special meaning and cannot be used as variable names. These keywords define the                syntax and structure of the Python language, such as if, else, for, while, def, and class. There are 35 such keywords in Python, which are                 essential for writing Python programs."
   ]
  },
  {
   "cell_type": "markdown",
   "id": "b31614e5-3874-4268-8a50-d324be742f06",
   "metadata": {},
   "source": [
    "# Q.(4)  Can keywords be used as variable names ?\n",
    "  ans.   No, keywords cannot be used as variable names in Python because they have predefined meanings and are reserved for specific functions in the            language. Attempting to use a keyword as a variable name will result in a syntax error."
   ]
  },
  {
   "cell_type": "markdown",
   "id": "8f94a632-8fbf-4443-a885-8967218f6b1f",
   "metadata": {},
   "source": [
    "# Q.(5)  What is mutability in Python ?\n",
    "  ans.  Mutability in Python refers to the ability of an object to be modified after it is created. Mutable objects, like lists and dictionaries, can           be changed, while immutable objects, like strings and tuples, cannot be altered once they are assigned."
   ]
  },
  {
   "cell_type": "markdown",
   "id": "815c9edb-71fe-428f-8b67-b63aa423128a",
   "metadata": {},
   "source": [
    "# Q.(6)  Why are lists mutable, but tuples are immutable ?\n",
    "  ans.   Lists are mutable because they are designed to allow dynamic changes, such as adding, removing, or modifying elements. Tuples are immutable to          provide safety and efficiency, ensuring their data remains constant and can be used as keys in dictionaries."
   ]
  },
  {
   "cell_type": "markdown",
   "id": "65e8938a-2b1f-415f-8672-470c7298c51e",
   "metadata": {},
   "source": [
    "# Q.(7)  What is the difference between “==” and “is” operators in Python ?\n",
    "  Ans.   The == operator checks if the values of two objects are equal, while the is operator checks if two objects reference the same memory location           (i.e., whether they are the same object).\n",
    "\n",
    "\n",
    "\n"
   ]
  },
  {
   "cell_type": "markdown",
   "id": "e7607e41-ef6d-4a5c-8e9c-92e20392ac06",
   "metadata": {},
   "source": [
    "# Q(8)  What are logical operators in Python ?\n",
    "  Ans.  Logical operators in Python are used to combine conditional statements. The main logical operators are and, or, and not, which evaluate                 expressions based on Boolean values."
   ]
  },
  {
   "cell_type": "markdown",
   "id": "1f776f9d-2a45-408b-8a88-ab26b70a40ea",
   "metadata": {},
   "source": [
    "# Q.(9)  What is type casting in Python ? \n",
    "  Ans.   Type casting in Python is the conversion of one data type to another. It can be done explicitly using functions like int(), float(), or str(),          allowing you to convert values between types, such as converting a string to an integer or a float to an integer. Python also performs                  implicit type casting, automatically converting data types when needed, like when adding an integer to a float."
   ]
  },
  {
   "cell_type": "markdown",
   "id": "044704e6-d34b-4bd8-afd5-e9716545db55",
   "metadata": {},
   "source": [
    "# Q.(10) What is the difference between implicit and explicit type casting ?\n",
    "  Ans.   Implicit type casting (also called type coercion) is done automatically by Python, where it converts a smaller data type to a larger one, such          as converting an integer to a float during arithmetic operations. \n",
    "  \n",
    "        Explicit type casting requires the programmer to manually convert a data type using functions like int(), float(), or str(), for example,               converting a string to an integer."
   ]
  },
  {
   "cell_type": "markdown",
   "id": "9e85744d-f6c2-4501-9259-066595deba5b",
   "metadata": {},
   "source": [
    "# Q.(11)  What is the purpose of conditional statements in Python ?\n",
    "  Ans.    The purpose of conditional statements in Python is to control the flow of execution based on certain conditions. They allow the program to              execute different blocks of code depending on whether a condition is true or false, using statements like if, elif, and else.\n",
    "\n",
    "\n",
    "\n"
   ]
  },
  {
   "cell_type": "markdown",
   "id": "4b7d7a9f-8f38-4209-a712-0f22cb5d2f74",
   "metadata": {},
   "source": [
    "# Q.(12)  How does the elif statement work ?\n",
    "  Ans.    The elif (short for \"else if\") statement in Python is used to check multiple conditions in a sequence. It follows an if statement and allows            you to test additional conditions if the previous if or elif conditions are false, ensuring only one block of code is executed based on the             first true condition."
   ]
  },
  {
   "cell_type": "markdown",
   "id": "beb858c7-058a-4334-87f7-1f7850a43cab",
   "metadata": {},
   "source": [
    "# Q.(13)  What is the difference between for and while loops ?\n",
    "  Ans.     The for loop in Python is used for iterating over a sequence (like a list, tuple, or range) for a specific number of times, making it ideal             for known iterations.\n",
    "\n",
    "          The while loop, on the other hand, continues to execute as long as a specified condition is true, and is used when the number of iterations             is not known in advance."
   ]
  },
  {
   "cell_type": "markdown",
   "id": "35116856-ec7d-453e-a583-edfcda61a974",
   "metadata": {},
   "source": [
    "# Q.(14)  Describe a scenario where a while loop is more suitable than a for loop.\n",
    "  Ans.     A while loop is more suitable when the number of iterations is unknown and depends on a condition, like waiting for user input or checking              for a specific event. For example, repeatedly asking a user for valid input until they provide it."
   ]
  },
  {
   "cell_type": "markdown",
   "id": "61a14f2f-c99f-4791-a7fe-9855ac5d42e2",
   "metadata": {},
   "source": [
    "# [Practical Questions]"
   ]
  },
  {
   "cell_type": "markdown",
   "id": "4b8a8874-2c46-41f0-8448-7e450324198c",
   "metadata": {},
   "source": [
    "# Q.(1)  Write a Python program to print \"Hello, World!\""
   ]
  },
  {
   "cell_type": "code",
   "execution_count": 6,
   "id": "5284ce7f-175b-4a19-9896-bb584e25f917",
   "metadata": {},
   "outputs": [
    {
     "name": "stdout",
     "output_type": "stream",
     "text": [
      "Hello, World!\n"
     ]
    }
   ],
   "source": [
    " # Ans.(1)\n",
    "print(\"Hello, World!\")\n"
   ]
  },
  {
   "cell_type": "markdown",
   "id": "e960f028-3728-4290-8ae8-023d1087851c",
   "metadata": {},
   "source": [
    "# Q.(2)  Write a Python program that displays your name and age."
   ]
  },
  {
   "cell_type": "code",
   "execution_count": 11,
   "id": "5545e3b7-f47a-439e-b11b-502f2dab6232",
   "metadata": {},
   "outputs": [
    {
     "name": "stdout",
     "output_type": "stream",
     "text": [
      "Name: Bhupendra chaudhary\n",
      "Age: 24\n"
     ]
    }
   ],
   "source": [
    "# Ans.(2)\n",
    "# Define the name and age\n",
    "name = \"Bhupendra chaudhary\"\n",
    "age = 24\n",
    "\n",
    "# Print the name and age\n",
    "print(\"Name:\", name)\n",
    "print(\"Age:\", age)\n"
   ]
  },
  {
   "cell_type": "markdown",
   "id": "db9918ce-b601-4991-b8e1-b759b198b109",
   "metadata": {},
   "source": [
    "# Q.(3) Write code to print all the pre-defined keywords in Python using the keyword library."
   ]
  },
  {
   "cell_type": "code",
   "execution_count": 16,
   "id": "cbf2d562-f2f7-4bcd-99b9-3d54b4cfe207",
   "metadata": {},
   "outputs": [
    {
     "name": "stdout",
     "output_type": "stream",
     "text": [
      "Python Keywords: ['False', 'None', 'True', 'and', 'as', 'assert', 'async', 'await', 'break', 'class', 'continue', 'def', 'del', 'elif', 'else', 'except', 'finally', 'for', 'from', 'global', 'if', 'import', 'in', 'is', 'lambda', 'nonlocal', 'not', 'or', 'pass', 'raise', 'return', 'try', 'while', 'with', 'yield']\n"
     ]
    }
   ],
   "source": [
    "# Ans.(3)\n",
    "import keyword\n",
    "\n",
    "# Print the list of Python keywords\n",
    "print(\"Python Keywords:\", keyword.kwlist)\n"
   ]
  },
  {
   "cell_type": "markdown",
   "id": "2fc76117-e0e3-45de-bc86-c29e4476914a",
   "metadata": {},
   "source": [
    "# Q.(4) Write a program that checks if a given word is a Python keyword."
   ]
  },
  {
   "cell_type": "code",
   "execution_count": null,
   "id": "d3dbf191-7134-4ce7-b079-8237d980f208",
   "metadata": {},
   "outputs": [],
   "source": [
    "# Ans.(4)import keyword\n",
    "\n",
    "# Function to check if the given word is a Python keyword\n",
    "def check_keyword(word):\n",
    "    if keyword.iskeyword(word):\n",
    "        print(f\"'{word}' is a Python keyword.\")\n",
    "    else:\n",
    "        print(f\"'{word}' is not a Python keyword.\")\n",
    "\n",
    "# Get user input\n",
    "word = input(\"Enter a word: \")\n",
    "\n",
    "# Check if the word is a Python keyword\n",
    "check_keyword(word)\n",
    "\n"
   ]
  },
  {
   "cell_type": "code",
   "execution_count": null,
   "id": "1478533f-c6ff-41da-b62a-662190342a7a",
   "metadata": {},
   "outputs": [],
   "source": [
    "'for' is a Python keyword.\n",
    "'hello' is not a Python keyword.\n"
   ]
  },
  {
   "cell_type": "markdown",
   "id": "8b4c45c2-8f56-49a7-bcb7-bb46c678898f",
   "metadata": {},
   "source": [
    "# Q.(5)Create a list and tuple in Python, and demonstrate how attempting to change an element works differently \n",
    "for eac.h"
   ]
  },
  {
   "cell_type": "code",
   "execution_count": null,
   "id": "171fc6d0-824f-4692-a579-fa5b553fb928",
   "metadata": {},
   "outputs": [],
   "source": [
    "#. Ans (5) # List and Tuple\n",
    "my_list = [10, 20, 30]\n",
    "my_tuple = (10, 20, 30)\n",
    "\n",
    "# Modify list (works)\n",
    "my_list[1] = 50\n",
    "\n",
    "# Modify tuple (raises error)\n",
    "try:\n",
    "    my_tuple[1] = 50\n",
    "except TypeError as e:\n",
    "    print(e)\n",
    "\n",
    "print(\"Modified list:\", my_list)\n"
   ]
  },
  {
   "cell_type": "markdown",
   "id": "d4e80db3-99f6-469e-b6b3-7bc038f9f7a4",
   "metadata": {},
   "source": [
    "# Q.(6)  Write a function to demonstrate the behavior of mutable and immutable arguments."
   ]
  },
  {
   "cell_type": "code",
   "execution_count": null,
   "id": "c79a35e4-7e33-4ba3-b42a-626cf6257784",
   "metadata": {},
   "outputs": [],
   "source": [
    "# Ans.(6)def modify(arg):\n",
    "    if isinstance(arg, list):\n",
    "        arg[0] = 99  # Modify mutable (list)\n",
    "    else:\n",
    "        arg = 99  # Reassign immutable (int)\n",
    "\n",
    "# Mutable argument (list)\n",
    "my_list = [10, 20]\n",
    "modify(my_list)\n",
    "print(\"List after modify:\", my_list)\n",
    "\n",
    "# Immutable argument (int)\n",
    "my_num = 10\n",
    "modify(my_num)\n",
    "print(\"Number after modify:\", my_num)\n"
   ]
  },
  {
   "cell_type": "markdown",
   "id": "6df7be99-d9fa-434d-b987-f0fabf12fc16",
   "metadata": {},
   "source": [
    "# Q.(7) Write a function to demonstrate the behavior of mutable and immutable arguments."
   ]
  },
  {
   "cell_type": "code",
   "execution_count": null,
   "id": "b518c780-c960-4559-b63b-bbd1a47fa916",
   "metadata": {},
   "outputs": [],
   "source": [
    "#.Ans(7)def modify(arg):\n",
    "    if isinstance(arg, list):\n",
    "        arg[0] = 99  # Mutable (list)\n",
    "    else:\n",
    "        arg = 99  # Immutable (int)\n",
    "\n",
    "my_list = [10]\n",
    "my_num = 10\n",
    "\n",
    "modify(my_list)\n",
    "modify(my_num)\n",
    "\n",
    "print(my_list)  # [99]\n",
    "print(my_num)   # 10\n"
   ]
  },
  {
   "cell_type": "markdown",
   "id": "ea353862-3f44-43aa-be5f-291f51f04732",
   "metadata": {},
   "source": [
    "# Q.(8) Write a program to demonstrate the use of logical operators."
   ]
  },
  {
   "cell_type": "code",
   "execution_count": null,
   "id": "ad02d2b4-b81f-4f59-900c-913a875a9343",
   "metadata": {},
   "outputs": [],
   "source": [
    "#.Ans(8) a = True\n",
    "b = False\n",
    "\n",
    "# Using logical operators\n",
    "print(a and b)  # False\n",
    "print(a or b)   # True\n",
    "print(not a)    # False\n"
   ]
  },
  {
   "cell_type": "markdown",
   "id": "2335b3e2-6439-45f6-b9fb-c90b386db88b",
   "metadata": {},
   "source": [
    "# Q.(9) Write a Python program to convert user input from string to integer, float, and boolean types."
   ]
  },
  {
   "cell_type": "code",
   "execution_count": null,
   "id": "3f9d9108-6600-4800-b961-1fb3c0b245bb",
   "metadata": {},
   "outputs": [],
   "source": [
    "# Ans.(9) # User input\n",
    "user_input = input(\"Enter a value: \")\n",
    "\n",
    "# Convert to different types\n",
    "int_value = int(user_input)\n",
    "float_value = float(user_input)\n",
    "bool_value = bool(user_input)\n",
    "\n",
    "print(\"Integer:\", int_value)\n",
    "print(\"Float:\", float_value)\n",
    "print(\"Boolean:\", bool_value)\n"
   ]
  },
  {
   "cell_type": "markdown",
   "id": "cc2f7e9f-3630-4f73-a4c4-e8760e810910",
   "metadata": {},
   "source": [
    "# Q.(10)  Write code to demonstrate type casting with list elements."
   ]
  },
  {
   "cell_type": "code",
   "execution_count": null,
   "id": "4ee3281f-a537-4c56-b86d-1db6dfa92396",
   "metadata": {},
   "outputs": [],
   "source": [
    "# Ans.(10) # List of string elements\n",
    "str_list = [\"10\", \"20\", \"30\"]\n",
    "\n",
    "# Type casting to integers\n",
    "int_list = [int(x) for x in str_list]\n",
    "\n",
    "print(\"Original list:\", str_list)\n",
    "print(\"Converted list:\", int_list)\n"
   ]
  },
  {
   "cell_type": "markdown",
   "id": "86d1dd8d-7a9c-4263-b678-2155809204a1",
   "metadata": {},
   "source": [
    "# Q.(11)  Write a program that checks if a number is positive, negative, or zero."
   ]
  },
  {
   "cell_type": "code",
   "execution_count": null,
   "id": "8536a2dc-06ca-4d61-a594-8ea62daa66be",
   "metadata": {},
   "outputs": [],
   "source": [
    "# Ans.(11) # User input\n",
    "num = float(input(\"Enter a number: \"))\n",
    "\n",
    "# Check if positive, negative, or zero\n",
    "if num > 0:\n",
    "    print(\"Positive\")\n",
    "elif num < 0:\n",
    "    print(\"Negative\")\n",
    "else:\n",
    "    print(\"Zero\")\n"
   ]
  },
  {
   "cell_type": "markdown",
   "id": "418a8d2f-c37b-4f89-874a-7fc88bade849",
   "metadata": {},
   "source": [
    "# Q.(12)  Write a for loop to print numbers from 1 to 10."
   ]
  },
  {
   "cell_type": "code",
   "execution_count": null,
   "id": "0696bbc2-754f-43a3-8bd2-7e2f557f2124",
   "metadata": {},
   "outputs": [],
   "source": [
    "# Ans.(12)\n",
    "for i in range(1, 11):\n",
    "    print(i)\n"
   ]
  },
  {
   "cell_type": "markdown",
   "id": "ef4072f7-872d-4f1a-8c4f-eb56796a5614",
   "metadata": {},
   "source": [
    "# Q. (13)  Write a Python program to find the sum of all even numbers between 1 and 50."
   ]
  },
  {
   "cell_type": "code",
   "execution_count": null,
   "id": "b6bc000f-65ba-4c9a-986a-73871c24877a",
   "metadata": {},
   "outputs": [],
   "source": [
    "# Ans.(13)\n",
    "sum_even = 0\n",
    "for i in range(2, 51, 2):\n",
    "    sum_even += i\n",
    "\n",
    "print(\"Sum of even numbers between 1 and 50:\", sum_even)\n"
   ]
  },
  {
   "cell_type": "markdown",
   "id": "c7aeb3ce-0fe7-4976-bbfe-81e2940d753c",
   "metadata": {},
   "source": [
    "# Q.(14) Write a program to reverse a string using a while loop."
   ]
  },
  {
   "cell_type": "code",
   "execution_count": null,
   "id": "ac9d5bff-5940-49e7-8442-afc282109593",
   "metadata": {},
   "outputs": [],
   "source": [
    "# Ans.(14) \n",
    "# User input\n",
    "string = input(\"Enter a string: \")\n",
    "\n",
    "# Initialize variables\n",
    "reversed_string = \"\"\n",
    "index = len(string) - 1\n",
    "\n",
    "# Reverse using while loop\n",
    "while index >= 0:\n",
    "    reversed_string += string[index]\n",
    "    index -= 1\n",
    "\n",
    "print(\"Reversed string:\", reversed_string)\n"
   ]
  },
  {
   "cell_type": "markdown",
   "id": "39cb9224-057b-4bf8-b6e9-2a6b513d1791",
   "metadata": {},
   "source": [
    "# Q.(15) Write a Python program to calculate the factorial of a number provided by the user using a while loop."
   ]
  },
  {
   "cell_type": "code",
   "execution_count": null,
   "id": "10961022-1f33-4cb7-8b53-f8953ba648f3",
   "metadata": {},
   "outputs": [],
   "source": [
    "# Ans.(15)\n",
    "# User input\n",
    "num = int(input(\"Enter a number: \"))\n",
    "\n",
    "# Initialize variables\n",
    "factorial = 1\n",
    "i = 1\n",
    "\n",
    "# Calculate factorial using while loop\n",
    "while i <= num:\n",
    "    factorial *= i\n",
    "    i += 1\n",
    "\n",
    "print(\"Factorial of\", num, \"is:\", factorial)\n"
   ]
  },
  {
   "cell_type": "code",
   "execution_count": null,
   "id": "369bd229-1b31-4425-a7c6-0bbf6a610dd8",
   "metadata": {},
   "outputs": [],
   "source": []
  }
 ],
 "metadata": {
  "kernelspec": {
   "display_name": "Python 3 (ipykernel)",
   "language": "python",
   "name": "python3"
  },
  "language_info": {
   "codemirror_mode": {
    "name": "ipython",
    "version": 3
   },
   "file_extension": ".py",
   "mimetype": "text/x-python",
   "name": "python",
   "nbconvert_exporter": "python",
   "pygments_lexer": "ipython3",
   "version": "3.12.4"
  }
 },
 "nbformat": 4,
 "nbformat_minor": 5
}
